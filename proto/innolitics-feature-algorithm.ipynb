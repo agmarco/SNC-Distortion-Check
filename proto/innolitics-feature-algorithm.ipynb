{
 "cells": [
  {
   "cell_type": "markdown",
   "metadata": {},
   "source": [
    "# Innolitics Feature Detection Algorithm\n",
    "\n",
    "This notebook outlines an approach to detecting the grid intersections in a volume via convolution with a kernel with the same geometry as the known grid intersections.\n",
    "\n",
    "In other words, we use our knowledge of the phantom's construction to produce a kernel that matches the geometry of the grid intersections.  The kernel could also be modified to account for the effects of the imaging system.\n",
    "\n",
    "Once we have the kernel, we simply:\n",
    "\n",
    "1. Convolve it with the data volume\n",
    "2. Threshold and label each \"feature\"\n",
    "3. Find the \"center of mass\" of the convolution result within each feature\n",
    "\n",
    "You can see how the algorithm works in the code cells below.\n",
    "\n",
    "This algorithm has a number of advantages.\n",
    "\n",
    "- It is soundly based on our a-priori knowledge of the system\n",
    "- It is very simple; it has very few steps and paramaters, which will make the final result more robust and less heuristical.  I.e. there is only one heuristically driven paramater (the threshold value), and even this paramter can probably be quantified\n",
    "- It does a good job rejecting false-positives and noise, because it will only select features in the image that match the shape of the grid intersection\n",
    "- It is robust to slight rotations in the grid; i.e. it should still properly locate the center of the intersection\n",
    "- Because it does not use different thresholds for each slice, localization along the slice-axis should be just as good as along the non-slice axes; as a result, the algorithm should only require a single data set.\n",
    "\n",
    "It also has some disadvantages.\n",
    "\n",
    "- Like Stanescu's algorithm, it won't work if the grid is not rectilinear\n",
    "- It requires us knowing the phantom we are using (so that we know how to construct the kernel).  This doesn't seem like a problem, as we should expect to know this anyway.  We could also probably estimate the values if we didn't know.\n",
    "- It is less sensitive to grid poins on the "
   ]
  },
  {
   "cell_type": "code",
   "execution_count": null,
   "metadata": {},
   "outputs": [],
   "source": [
    "%matplotlib inline\n",
    "\n",
    "from scipy.io import loadmat\n",
    "import numpy as np\n",
    "import matplotlib.pyplot as plt\n",
    "import ipywidgets as widgets\n",
    "\n",
    "from visualization import slices_interactive, compare_volumes_interactive, compare_volumes, slider, scatter3\n",
    "\n",
    "def invert(data):\n",
    "    return 2*np.mean(data) - data"
   ]
  },
  {
   "cell_type": "code",
   "execution_count": null,
   "metadata": {},
   "outputs": [],
   "source": [
    "data = invert(loadmat('../tmp/mri-001-axial-voxels.mat')['voxels'])"
   ]
  },
  {
   "cell_type": "code",
   "execution_count": null,
   "metadata": {},
   "outputs": [],
   "source": [
    "def grid_intersection_kernel(nrx, nry, nrz):\n",
    "    '''\n",
    "    Generate a convolution kernel that can be used to detect \"grid intersections\".\n",
    "    \n",
    "    Grid intersections are modeled as the intersections between three cylinders.\n",
    "    \n",
    "    The radius of the cylinders along each dimension, nrx, nry, and nrz, are \n",
    "    specified in pixels.\n",
    "    \n",
    "    The kernel rejects the 0-frequency (i.e. its mean is 0), hence the values \n",
    "    outside of the grid will be negative.  In this way, matching features in the\n",
    "    image will stand out against a background that is approximately 0.\n",
    "    '''\n",
    "    kernel_shape = tuple(round(2*4*n) for n in (nrx, nry, nrz))\n",
    "    kernel = np.zeros(kernel_shape)\n",
    "    X, Y, Z = np.meshgrid(*(np.linspace(-4, 4, n) for n in kernel_shape), indexing='ij')\n",
    "    kernel[X**2 + Y**2 < 1] = 1\n",
    "    kernel[X**2 + Z**2 < 1] = 1\n",
    "    kernel[Y**2 + Z**2 < 1] = 1\n",
    "    return kernel - np.mean(kernel[:])\n",
    "    \n",
    "kernel = grid_intersection_kernel(3, 3, 3)\n",
    "slices_interactive(kernel)"
   ]
  },
  {
   "cell_type": "code",
   "execution_count": null,
   "metadata": {},
   "outputs": [],
   "source": [
    "from scipy import signal\n",
    "\n",
    "kernel = grid_intersection_kernel(3, 3, 3)\n",
    "intersections = signal.fftconvolve(data, kernel, mode='same')\n",
    "slices_interactive(intersections)"
   ]
  },
  {
   "cell_type": "code",
   "execution_count": null,
   "metadata": {},
   "outputs": [],
   "source": [
    "intersections_thresholded = intersections > np.max(intersections)*0.6\n",
    "slices_interactive(intersections_thresholded)"
   ]
  },
  {
   "cell_type": "code",
   "execution_count": null,
   "metadata": {},
   "outputs": [],
   "source": [
    "from scipy import ndimage\n",
    "\n",
    "labels, number_of_labels = ndimage.label(intersections_thresholded)\n",
    "slices_interactive(labels)\n",
    "grid_intersections = ndimage.center_of_mass(data, labels, range(1, number_of_labels + 1))\n",
    "x, y, z = zip(*grid_intersections)"
   ]
  },
  {
   "cell_type": "code",
   "execution_count": null,
   "metadata": {},
   "outputs": [],
   "source": [
    "%matplotlib notebook\n",
    "scatter3(x, y, z)"
   ]
  },
  {
   "cell_type": "code",
   "execution_count": null,
   "metadata": {},
   "outputs": [],
   "source": []
  }
 ],
 "metadata": {
  "anaconda-cloud": {
   "attach-environment": true
  },
  "kernelspec": {
   "display_name": "Python [default]",
   "language": "python",
   "name": "python3"
  },
  "language_info": {
   "codemirror_mode": {
    "name": "ipython",
    "version": 3
   },
   "file_extension": ".py",
   "mimetype": "text/x-python",
   "name": "python",
   "nbconvert_exporter": "python",
   "pygments_lexer": "ipython3",
   "version": "3.5.2"
  }
 },
 "nbformat": 4,
 "nbformat_minor": 1
}
