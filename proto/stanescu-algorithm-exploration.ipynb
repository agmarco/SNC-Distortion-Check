{
 "cells": [
  {
   "cell_type": "code",
   "execution_count": null,
   "metadata": {
    "collapsed": false
   },
   "outputs": [],
   "source": [
    "from pylab import imshow\n",
    "import numpy as np\n",
    "from ipywidgets import interact, fixed\n",
    "import matplotlib as mpl\n",
    "import matplotlib.pyplot as plt\n",
    "import ipywidgets as widgets\n",
    "\n",
    "%matplotlib inline"
   ]
  },
  {
   "cell_type": "code",
   "execution_count": null,
   "metadata": {
    "collapsed": false
   },
   "outputs": [],
   "source": [
    "data = np.load('./axial.npy')"
   ]
  },
  {
   "cell_type": "code",
   "execution_count": null,
   "metadata": {
    "collapsed": false
   },
   "outputs": [],
   "source": [
    "data_inverted = 2*np.mean(data) - data"
   ]
  },
  {
   "cell_type": "code",
   "execution_count": null,
   "metadata": {
    "collapsed": false,
    "scrolled": false
   },
   "outputs": [],
   "source": [
    "def slices(data, x, y, z, cmap='Greys_r'):\n",
    "    plt.figure(figsize=(8, 15))\n",
    "    \n",
    "    vmax = np.max(data)\n",
    "    \n",
    "    plt.subplot(311)\n",
    "    plt.imshow(data[x, :, :], cmap=cmap, interpolation=\"none\", vmin=0, vmax=vmax)\n",
    "    plt.title('Coronal')\n",
    "    turn_off_labels()\n",
    "    \n",
    "    plt.subplot(312)\n",
    "    plt.imshow(data[:, y, :], cmap=cmap, interpolation=\"none\", vmin=0, vmax=vmax)\n",
    "    plt.title('Saggital')\n",
    "    turn_off_labels()\n",
    "    \n",
    "    plt.subplot(313)\n",
    "    plt.imshow(data[:, :, z], cmap=cmap, interpolation=\"none\", vmin=0, vmax=vmax)\n",
    "    plt.title('Axial')\n",
    "    turn_off_labels()\n",
    "    \n",
    "    plt.tight_layout()\n",
    "\n",
    "    \n",
    "def compare_volumes(a, b, z):\n",
    "    '''\n",
    "    Display Axial slices from two volumes.\n",
    "    '''\n",
    "    dpi = 100\n",
    "    \n",
    "    upsample = 2\n",
    "    y_pixels = upsample*max(a.shape[0], b.shape[0])\n",
    "    x_pixels = upsample*(a.shape[1] + b.shape[1])\n",
    "\n",
    "    plt.figure(dpi=dpi, figsize=(x_pixels/dpi, y_pixels/dpi))\n",
    "  \n",
    "    plt.subplot(121)\n",
    "    plt.imshow(a[:, :, z], cmap='Greys_r', interpolation=\"nearest\")\n",
    "    plt.axis('off')\n",
    "    \n",
    "    plt.subplot(122)\n",
    "    plt.imshow(b[:, :, z], cmap='Greys_r', interpolation=\"nearest\")\n",
    "    plt.axis('off')\n",
    "    \n",
    "    plt.tight_layout(pad=0, h_pad=0, w_pad=0)\n",
    "\n",
    "\n",
    "def compare_volumes_interactive(a, b):  \n",
    "    _, _, z_max = a.shape\n",
    "    keywords = {\n",
    "        'a': fixed(a),\n",
    "        'b': fixed(b),\n",
    "        'z': slider(z_max),\n",
    "    }\n",
    "    interact(compare_volumes, **keywords)\n",
    "\n",
    "    \n",
    "def slider(maximum):\n",
    "    return widgets.IntSlider(min=0, max=maximum - 1, step=1, value=round(maximum/2), continuous_update=False)\n",
    "\n",
    "\n",
    "def turn_off_labels():\n",
    "    plt.tick_params(\n",
    "        left='off',\n",
    "        right='off',\n",
    "        bottom='off',\n",
    "        top='off',\n",
    "        labelbottom='off',\n",
    "        labelleft='off'\n",
    "    )\n",
    "\n",
    "    \n",
    "def slices_interactive(data, cmap='Greys_r'):\n",
    "    x_max, y_max, z_max = data.shape\n",
    "    keywords = {\n",
    "        'data': fixed(data),\n",
    "        'x': slider(x_max),\n",
    "        'y': slider(y_max),\n",
    "        'z': slider(z_max),\n",
    "        'cmap': fixed(cmap),\n",
    "    }\n",
    "    interact(slices, **keywords)\n",
    "    \n",
    "slices_interactive(data_inverted)"
   ]
  },
  {
   "cell_type": "code",
   "execution_count": null,
   "metadata": {
    "collapsed": false,
    "scrolled": false
   },
   "outputs": [],
   "source": [
    "from scipy.ndimage import filters\n",
    "\n",
    "def unsharp_mask(image, sigma, weight):\n",
    "    '''\n",
    "    There are many ways to define an \"unsharp\" mask, \n",
    "    however this is a pretty standard one.\n",
    "    \n",
    "    NOTE: there is no \"threshold\" here.  It would be\n",
    "    easy to add, however.  See:\n",
    "    \n",
    "        http://www.damiensymonds.net/tut_usm.html\n",
    "        \n",
    "    for details on how it is typically implemented.\n",
    "    '''\n",
    "    blurred = filters.gaussian_filter(image, sigma)\n",
    "    return image - weight*blurred"
   ]
  },
  {
   "cell_type": "code",
   "execution_count": null,
   "metadata": {
    "collapsed": false
   },
   "outputs": [],
   "source": [
    "data_inverted_unsharp = unsharp_mask(data_inverted, 5, 1)\n",
    "compare_volumes_interactive(data_inverted, data_inverted_unsharp)"
   ]
  },
  {
   "cell_type": "code",
   "execution_count": null,
   "metadata": {
    "collapsed": false
   },
   "outputs": [],
   "source": [
    "def adaptive_threshold(data):\n",
    "    thresholded = np.empty_like(data, dtype='b')\n",
    "    for iz in range(data.shape[2]):\n",
    "        thresholded[:, :, iz] = data[:, :, iz] > np.median(data[:, :, iz])\n",
    "    return thresholded\n",
    "\n",
    "thresholded = adaptive_threshold(data_inverted_unsharp)\n",
    "\n",
    "compare_volumes_interactive(data_inverted, thresholded)"
   ]
  },
  {
   "cell_type": "code",
   "execution_count": null,
   "metadata": {
    "collapsed": false
   },
   "outputs": [],
   "source": [
    "from scipy import signal\n",
    "\n",
    "kernel_length = 31\n",
    "kernel_unnormalized = signal.gaussian(kernel_length, std=5)\n",
    "kernel = kernel_unnormalized / np.sum(kernel_unnormalized)\n",
    "\n",
    "plt.plot(kernel, '-o')\n",
    "plt.title(\"Gaussian Kernel\")"
   ]
  },
  {
   "cell_type": "code",
   "execution_count": null,
   "metadata": {
    "collapsed": false
   },
   "outputs": [],
   "source": [
    "thresholded_as_float = thresholded.astype('f')\n",
    "kernel_x = np.reshape(kernel, (kernel_length, 1, 1))\n",
    "blurred_x = signal.convolve(thresholded_as_float, kernel_x, 'same')\n",
    "\n",
    "kernel_y = np.reshape(kernel, (1, kernel_length, 1))\n",
    "blurred_y = signal.convolve(thresholded_as_float, kernel_y, 'same')"
   ]
  },
  {
   "cell_type": "code",
   "execution_count": null,
   "metadata": {
    "collapsed": false
   },
   "outputs": [],
   "source": [
    "compare_volumes_interactive(blurred_x, blurred_y)"
   ]
  },
  {
   "cell_type": "code",
   "execution_count": null,
   "metadata": {
    "collapsed": false
   },
   "outputs": [],
   "source": [
    "blurred_xy = blurred_x + blurred_y"
   ]
  },
  {
   "cell_type": "code",
   "execution_count": null,
   "metadata": {
    "collapsed": false
   },
   "outputs": [],
   "source": [
    "# Assume that `blurred_x` and `blurred_y` will have the same \"maximum\" value, M.\n",
    "# M likely occurs\n",
    "# If this is the case, then the overlapping points will have a value of 2*M, and the intermediate\n",
    "# lines in the grid will have a value of about M, hence we want to threshold at 3/4*(2*M)\n",
    "blurred_xy_thresholded = blurred_xy > np.max(blurred_xy)*3/4"
   ]
  },
  {
   "cell_type": "code",
   "execution_count": null,
   "metadata": {
    "collapsed": false
   },
   "outputs": [],
   "source": [
    "compare_volumes_interactive(blurred_xy, blurred_xy_thresholded)"
   ]
  },
  {
   "cell_type": "code",
   "execution_count": null,
   "metadata": {
    "collapsed": false
   },
   "outputs": [],
   "source": [
    "from scipy.ndimage import distance_transform_cdt, label, watershed_ift\n",
    "\n",
    "# NOTE: this watershed algorithm is not finished\n",
    "# I stopped working on it, because after some consideration, it does not seem\n",
    "# like we even need to bother doing watersheding, as all of the points appear \n",
    "# properly separated already.\n",
    "\n",
    "def watershed_segmentation(binary_array):\n",
    "    distance = distance_transform_cdt(binary_array)\n",
    "    #local_maximums = peak_local_max(distance, indices=False, footprint=np.ones((3, 3, 3)), labels=binary_array)\n",
    "    markers = label(local_maximums)\n",
    "    # TODO: finish this"
   ]
  },
  {
   "cell_type": "code",
   "execution_count": null,
   "metadata": {
    "collapsed": false
   },
   "outputs": [],
   "source": [
    "from scipy import ndimage\n",
    "\n",
    "labeled, num_features = ndimage.label(blurred_xy_thresholded)\n",
    "\n",
    "slices_interactive(labeled, cmap='jet')"
   ]
  },
  {
   "cell_type": "code",
   "execution_count": null,
   "metadata": {
    "collapsed": false
   },
   "outputs": [],
   "source": [
    "def histogram_of_feature_sizes(labeled_array):\n",
    "    labeled_array_flattened = labeled_array.flatten()\n",
    "    labeled_array_flattened_excluding_background = labeled_array_flattened[labeled_array_flattened > 0]\n",
    "    feature_sizes = np.bincount(labeled_array_flattened_excluding_background)\n",
    "    plt.plot(feature_sizes[4:1000])\n",
    "    plt.xlabel('Size (# of Voxels)')\n",
    "    plt.ylabel('Label Count')\n",
    "\n",
    "def reject_outliers(data, m = 2.0):\n",
    "    distance_from_median = np.abs(data - np.median(data))\n",
    "    median_distance_from_median = np.median(distance_from_median)\n",
    "    if median_distance_from_median == 0:\n",
    "        return data\n",
    "    else:\n",
    "        return data[distance_from_median <= m*median_distance_from_median]\n",
    "    \n",
    "\n",
    "histogram_of_feature_sizes(labeled_array)"
   ]
  },
  {
   "cell_type": "code",
   "execution_count": null,
   "metadata": {
    "collapsed": false
   },
   "outputs": [],
   "source": [
    "def prune_features(labeled_array, min_size, max_size):\n",
    "    '''\n",
    "    Remove features that have too many or too few pixels.\n",
    "    '''\n",
    "    feature_sizes = np.bincount(labeled_array.flatten())\n",
    "    remaining_features_array = np.logical_and(feature_sizes >= min_size, feature_sizes <= max_size)\n",
    "    remaining_features = np.nonzero(remaining_features_array)\n",
    "\n",
    "    labeled_array_flat = labeled_array.flatten()\n",
    "    features_pruned = np.in1d(labeled_array_flat, remaining_features)\n",
    "    features_pruned.resize(*labeled_array.shape)\n",
    "    return features_pruned\n",
    "\n",
    "def min_max_thresholdb(min_val, max_val):\n",
    "    '''\n",
    "    Tool to help identify the min and max threshold values.\n",
    "    \n",
    "    Of course, this will have to be done automatically in the final algorithm!\n",
    "    '''\n",
    "    blurred_xy_thresholded_pruned = prune_features(labeled, min_val, max_val)\n",
    "    compare_volumes(blurred_xy_thresholded_pruned, blurred_xy_thresholded, 63)\n",
    "    compare_volumes(blurred_xy_thresholded_pruned, blurred_xy_thresholded, 78)\n",
    "    compare_volumes(blurred_xy_thresholded_pruned, blurred_xy_thresholded, 96)\n",
    "    \n",
    "keywords = {\n",
    "    'min_val': slider(100),\n",
    "    'max_val': slider(1000),\n",
    "}\n",
    "interact(min_max_thresholdb, **keywords)"
   ]
  },
  {
   "cell_type": "code",
   "execution_count": null,
   "metadata": {
    "collapsed": false
   },
   "outputs": [],
   "source": [
    "# the max/min thresholds are manually determined using the previous\n",
    "# interactive block; eventually this step will need to be automated\n",
    "blurred_xy_thresholded_pruned = prune_features(labeled, 50, 500)\n",
    "labeled_pruned, number_of_labels = ndimage.label(blurred_xy_thresholded_pruned)\n",
    "# NOTE: it is not clear whether `data` should be the first argument \n",
    "# here;  need to think about this more\n",
    "grid_intersections = ndimage.center_of_mass(data, labeled_pruned, range(1, number_of_labels + 1))\n",
    "x, y, z = zip(*grid_intersections)"
   ]
  },
  {
   "cell_type": "code",
   "execution_count": null,
   "metadata": {
    "collapsed": false
   },
   "outputs": [],
   "source": [
    "%matplotlib notebook\n",
    "import matplotlib.pyplot as plt\n",
    "from mpl_toolkits.mplot3d import Axes3D\n",
    "fig = plt.figure(figsize=(10, 10))\n",
    "ax = fig.add_subplot(111, projection='3d')\n",
    "ax.scatter(x, y, z)"
   ]
  },
  {
   "cell_type": "code",
   "execution_count": null,
   "metadata": {
    "collapsed": false
   },
   "outputs": [],
   "source": []
  }
 ],
 "metadata": {
  "anaconda-cloud": {
   "attach-environment": true
  },
  "kernelspec": {
   "display_name": "Python 3",
   "language": "python",
   "name": "python3"
  },
  "language_info": {
   "codemirror_mode": {
    "name": "ipython",
    "version": 3
   },
   "file_extension": ".py",
   "mimetype": "text/x-python",
   "name": "python",
   "nbconvert_exporter": "python",
   "pygments_lexer": "ipython3",
   "version": "3.5.2"
  },
  "widgets": {
   "state": {
    "09835d1755534f558f4b881ceeac2f6c": {
     "views": [
      {
       "cell_index": 16
      }
     ]
    },
    "1c13fc302b54427a95250f72bb817f99": {
     "views": [
      {
       "cell_index": 16
      }
     ]
    },
    "311e6ae900154c9b8850e0d33c768bcf": {
     "views": [
      {
       "cell_index": 16
      }
     ]
    },
    "3150da308e20407eba504db4e79d9f46": {
     "views": [
      {
       "cell_index": 12
      }
     ]
    },
    "3eaa0d4ed08340af99ca5aa50169ec7b": {
     "views": [
      {
       "cell_index": 3
      }
     ]
    },
    "40faff69b71f4365979ae504dc03a79c": {
     "views": [
      {
       "cell_index": 6
      }
     ]
    },
    "539d25db97954cb582f1a3a1aadfdc68": {
     "views": [
      {
       "cell_index": 9
      }
     ]
    },
    "5e2e7121b6324606a35004cdff22b4cc": {
     "views": [
      {
       "cell_index": 14
      }
     ]
    },
    "5e8a09b19548449d8a4cc16661969a1d": {
     "views": [
      {
       "cell_index": 6
      }
     ]
    },
    "7bc4735532514a80856d5e60db65fb7a": {
     "views": [
      {
       "cell_index": 16
      }
     ]
    },
    "97a850fb17884891a0ebd80cadb99302": {
     "views": [
      {
       "cell_index": 16
      }
     ]
    },
    "b88c3336db214460ac7a3e8656f83d6e": {
     "views": [
      {
       "cell_index": 16
      }
     ]
    },
    "e9f7d363bed34595988a44f3e242f97d": {
     "views": [
      {
       "cell_index": 5
      }
     ]
    }
   },
   "version": "1.2.0"
  }
 },
 "nbformat": 4,
 "nbformat_minor": 1
}
