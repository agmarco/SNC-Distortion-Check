{
 "cells": [
  {
   "cell_type": "markdown",
   "metadata": {},
   "source": [
    "# Visual Investigation of Mirc"
   ]
  },
  {
   "cell_type": "code",
   "execution_count": null,
   "metadata": {},
   "outputs": [],
   "source": [
    "%matplotlib inline\n",
    "\n",
    "from scipy.io import loadmat\n",
    "import scipy\n",
    "import numpy as np\n",
    "import matplotlib.pyplot as plt\n",
    "import ipywidgets as widgets\n",
    "from visualization import scatter3\n",
    "\n",
    "\n",
    "points_1 = loadmat('../data/points/mircea_points_1.mat')['points']\n",
    "points_2 = loadmat('../data/points/mircea_points_2.mat')['points']\n",
    "points_cad = loadmat('../data/points/603A_CAD.mat')['points']"
   ]
  },
  {
   "cell_type": "code",
   "execution_count": null,
   "metadata": {},
   "outputs": [],
   "source": [
    "def plane_of_points(points, z_min, z_max):\n",
    "    return points[:, (points[2, :] < z_max) & (points[2, :] > z_min)]\n",
    "\n",
    "def plot_plane(points, z_min, z_max):\n",
    "    plane = plane_of_points(points, z_min, z_max)\n",
    "    plt.scatter(plane[0, :], plane[1, :])"
   ]
  },
  {
   "cell_type": "code",
   "execution_count": null,
   "metadata": {},
   "outputs": [],
   "source": [
    "widgets.interact(lambda mi, ma: plot_plane(points_1, mi, ma), mi=(-100, 100), ma=(-100, 100))"
   ]
  },
  {
   "cell_type": "code",
   "execution_count": null,
   "metadata": {},
   "outputs": [],
   "source": [
    "np.average(points_1, axis=1)"
   ]
  },
  {
   "cell_type": "code",
   "execution_count": null,
   "metadata": {},
   "outputs": [],
   "source": [
    "np.average(points_2, axis=1)"
   ]
  },
  {
   "cell_type": "code",
   "execution_count": null,
   "metadata": {},
   "outputs": [],
   "source": [
    "from registration import build_f\n",
    "import scipy.optimize\n",
    "\n",
    "def register_and_plot(A, B, g, rho, tol):\n",
    "    f = build_f(A, B, g, rho)\n",
    "    x0 = np.array([0, 0, 0, 0, 0, 0])\n",
    "    options = {\n",
    "        'xtol': tol,\n",
    "        'ftol': 1e-20,  # only care about x\n",
    "        'maxiter': 4000,\n",
    "        'return_all': True,\n",
    "    }\n",
    "    return scipy.optimize.minimize(f, x0, method='Powell', options=options), f"
   ]
  },
  {
   "cell_type": "code",
   "execution_count": null,
   "metadata": {},
   "outputs": [],
   "source": [
    "g_approx_27_points = lambda mag_b: 0 if mag_b > 29.5 else 1\n",
    "rho = lambda mag_b: 10\n",
    "result, f = register_and_plot(points_cad, points_2, g_approx_27_points, rho, tol=1e-8)\n",
    "print('found x={}, f={}'.format(result.x[:3], f(result.x)))"
   ]
  },
  {
   "cell_type": "code",
   "execution_count": null,
   "metadata": {},
   "outputs": [],
   "source": [
    "xyz = np.array(result.allvecs).T[:3, :]\n",
    "scatter3({'path': xyz})"
   ]
  },
  {
   "cell_type": "code",
   "execution_count": null,
   "metadata": {},
   "outputs": [],
   "source": [
    "plt.plot([f(v) for v in result.allvecs])"
   ]
  },
  {
   "cell_type": "code",
   "execution_count": null,
   "metadata": {},
   "outputs": [],
   "source": [
    "nx, ny = 20, 20\n",
    "xl, xh = -4, 4\n",
    "yl, yh = -4, 4\n",
    "ff = np.empty((nx, ny), dtype=float)\n",
    "for xi, xx in enumerate(np.linspace(xl, xh, nx)):\n",
    "    for yi, yy in enumerate(np.linspace(yl, yh, ny)):\n",
    "        ff[xi, yi] = f([xx, yy, 1.7, 0*3.14/180, 0, 0])\n",
    "plt.imshow(ff, interpolation='nearest', extent=(xl, xh, yl, yh), origin='lower')\n",
    "plt.xlabel('x')\n",
    "plt.ylabel('y')\n",
    "plt.title('Min = {}'.format(np.min(ff)))\n",
    "plt.colorbar()"
   ]
  },
  {
   "cell_type": "code",
   "execution_count": null,
   "metadata": {},
   "outputs": [],
   "source": [
    "testA = np.array([(x, 0, 0) for x in [0, 15.0]], dtype=float).T\n",
    "testB = np.array([(x, 0, 0) for x in [0, 2, 15.0, 15.0 + 2]]).T\n",
    "g = lambda b: 1\n",
    "rho = lambda b: 2.0 + b/15.0\n",
    "testf = build_f(testA, testB, g, rho)"
   ]
  },
  {
   "cell_type": "code",
   "execution_count": null,
   "metadata": {},
   "outputs": [],
   "source": [
    "testx = np.linspace(-4, 4, 100)\n",
    "plt.plot(testx, [testf([x, 0, 0, 0, 0, 0]) for x in testx], 'r', label='y=0')\n",
    "plt.plot(testx, [testf([x, 0.5, 0, 0, 0, 0]) for x in testx], 'g', label='y=0.5')\n",
    "plt.plot(testx, [testf([x, 1.0, 0, 0, 0, 0]) for x in testx], 'b', label='y=1.0')\n",
    "plt.plot(testx, [testf([x, 0, 0, 0, 2*3.14/180, 0]) for x in testx], 'b:', label='phi=2deg')"
   ]
  },
  {
   "cell_type": "code",
   "execution_count": null,
   "metadata": {},
   "outputs": [],
   "source": []
  }
 ],
 "metadata": {
  "anaconda-cloud": {},
  "kernelspec": {
   "display_name": "Python [conda env:cirs]",
   "language": "python",
   "name": "conda-env-cirs-py"
  },
  "language_info": {
   "codemirror_mode": {
    "name": "ipython",
    "version": 3
   },
   "file_extension": ".py",
   "mimetype": "text/x-python",
   "name": "python",
   "nbconvert_exporter": "python",
   "pygments_lexer": "ipython3",
   "version": "3.5.2"
  }
 },
 "nbformat": 4,
 "nbformat_minor": 1
}
