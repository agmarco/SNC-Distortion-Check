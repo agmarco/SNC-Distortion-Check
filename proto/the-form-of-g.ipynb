{
 "cells": [
  {
   "cell_type": "markdown",
   "metadata": {},
   "source": [
    "# Determining the Ideal \"g\" Function\n",
    "\n",
    "The $g$ function is used to weight the importance of points at varying distances from the isocenter as we optimize $f$.\n",
    "\n",
    "\n",
    "$$\n",
    "f(x, y, z, \\theta, \\phi, \\xi) =\n",
    "\\sum_B g(\\left|\\mathbf{b}\\right|)\n",
    "\\;\n",
    "(\\left|\\mathbf{b} - \\mathbf{a}_{\\textrm{S},\\textrm{min}}\\right|/\\rho(|\\mathbf{b}|) - 1)\n",
    "\\;\n",
    "u(\\rho(|\\mathbf{b}|) - \\left|\\mathbf{b} - \\mathbf{a}_{\\textrm{S},\\textrm{min}}\\right|)\n",
    "$$\n",
    "\n",
    "This formulation assumes that $g$ is a function of the radial distance from the isocenter (i.e. it is spherically symmetric).  This seems most natural given that the error tends to increase with distance from the isocen, however given that the MRI machine is not spherically symmetric, it may also be worth considering shapes for $g$ that are no spherically symmetric.\n",
    "\n",
    "It is not clear what the proper form for $g$ should be.\n",
    "\n",
    "The simplest shape for $g$ would be a sharp cutoff beyond some distance.  This shape would weight all points within the cutoff equally.\n",
    "\n",
    "Probably a better shape for $g$ would be a montonically decreasing function that is derived from the expected error (and thus expected confidence) of the points as a function of their distance from the isocenter.\n",
    "\n",
    "The rest of this notebook investigates the simple form of $g$--namely a $g$ which is a 1 for points below a threshold distance and 0 otherwise.  For this function, the main question is what should the cutoff be?\n",
    "\n",
    "Low cutoff distances will ensure distorted points do not contribute to the registration.\n",
    "\n",
    "High cutoff distances may be more stable, and errors and noise in the central points will be less able to cause bad rotatations and scaling; this is because points further from the center will counter balance and averge out errors that may be in the points in the center."
   ]
  },
  {
   "cell_type": "code",
   "execution_count": null,
   "metadata": {
    "collapsed": false
   },
   "outputs": [],
   "source": [
    "%matplotlib inline\n",
    "\n",
    "from scipy.io import loadmat\n",
    "import scipy\n",
    "import numpy as np\n",
    "import matplotlib.pyplot as plt\n",
    "\n",
    "import visualization\n",
    "\n",
    "points_1 = loadmat('../data/points/mircea_points_1.mat')['points']\n",
    "points_2 = loadmat('../data/points/mircea_points_2.mat')['points']"
   ]
  },
  {
   "cell_type": "markdown",
   "metadata": {},
   "source": [
    "## Here we plot the two sets of points"
   ]
  },
  {
   "cell_type": "code",
   "execution_count": null,
   "metadata": {
    "collapsed": false
   },
   "outputs": [],
   "source": [
    "fig = visualization.scatter3({'points_1': points_1, 'points_2': points_2})"
   ]
  },
  {
   "cell_type": "code",
   "execution_count": null,
   "metadata": {
    "collapsed": false
   },
   "outputs": [],
   "source": [
    "from registration import register\n",
    "import affine\n",
    "\n",
    "def transform(A, result):\n",
    "    transformation_matrix = affine.translation_rotation(*result)\n",
    "    return affine.apply_affine(transformation_matrix, A)\n",
    "\n",
    "def results_str(result):\n",
    "    return 'x={:+.4f}, y={:+.4f}, z={:+.4f}, theta={:+.4f}, phi={:+.4f}, xi={:+.4f}'.format(*result)\n",
    "\n",
    "def register_shift_scatter(A, B, g, rho):\n",
    "    result = register(A, B, g, rho, 1e-8)\n",
    "    A_shifted = transform(A, result)\n",
    "    visualization.scatter3({'A_shifted': A_shifted, 'B': B})\n",
    "    plt.title(results_str(result))"
   ]
  },
  {
   "cell_type": "markdown",
   "metadata": {},
   "source": [
    "## Here we plot the registered points, where a cutoff of 50 mm was used in $g$"
   ]
  },
  {
   "cell_type": "code",
   "execution_count": null,
   "metadata": {
    "collapsed": false
   },
   "outputs": [],
   "source": [
    "g_cutoff_50 = lambda mag_b: 0 if mag_b > 50 else 1\n",
    "rho = lambda mag_b: 10\n",
    "register_shift_scatter(points_1, points_2, g_cutoff_15, rho)"
   ]
  },
  {
   "cell_type": "markdown",
   "metadata": {},
   "source": [
    "## Here we investigate how the cutoff affects the resulting optimzation result\n",
    "\n",
    "Note that the \"number of points\" matched is slightly approximated, because it is only based on the position of the points in $B$, and not on the positions of the points in $A$."
   ]
  },
  {
   "cell_type": "code",
   "execution_count": null,
   "metadata": {
    "collapsed": false,
    "scrolled": false
   },
   "outputs": [],
   "source": [
    "from registration import register\n",
    "from scipy.linalg import norm\n",
    "import affine\n",
    "\n",
    "def contained_points(g, points):\n",
    "    return len(list(filter(lambda p: g(norm(p)) > 0, points.T)))\n",
    "\n",
    "# Iterate through various extents for g, printing out the results as we go\n",
    "g_cutoffs = range(10, 80, 5)\n",
    "for cutoff in g_cutoffs:\n",
    "    g = lambda mag_b: 0 if mag_b > cutoff else 1\n",
    "    rho = lambda mag_b: 10\n",
    "    result = register(points_1, points_2, g, rho, 1e-8)\n",
    "    matched_B = contained_points(g, points_1)\n",
    "    print('Using radius of {:3d}, matched {:3d} points: {}'.format(cutoff, matched_B, results_str(result)))"
   ]
  },
  {
   "cell_type": "markdown",
   "metadata": {},
   "source": [
    "# Conclusion\n",
    "\n",
    "It seems that, at least with this data set, the number of points does not substantially affect the registration.\n",
    "\n",
    "With very small numbers of points (e.g. 20), there is some error due to the noise in the central points, however this averages out quickly.\n",
    "\n",
    "That said, it appears that there is random noise added to the entire set of points.  It will be interesting to consider how the choice of $g$ affects the registration process in more realistic scenarios.  In particular, how does the shape of $g$ (and $\\rho$ for that matter) affect the registration when:\n",
    "\n",
    "- the geometric distortion increases as we move away from the origin\n",
    "- there are false positives on the periphery, and in the inside of the dataset\n",
    "- there are false negatives (especially interesting is when there are false negatives in the middle set of points)\n",
    "- there are non-random, systematic distortions on the periphery"
   ]
  },
  {
   "cell_type": "code",
   "execution_count": null,
   "metadata": {
    "collapsed": false
   },
   "outputs": [],
   "source": []
  }
 ],
 "metadata": {
  "anaconda-cloud": {},
  "kernelspec": {
   "display_name": "Python [conda env:cirs]",
   "language": "python",
   "name": "conda-env-cirs-py"
  }
 },
 "nbformat": 4,
 "nbformat_minor": 1
}
