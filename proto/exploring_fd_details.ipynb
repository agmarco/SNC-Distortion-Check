{
 "cells": [
  {
   "cell_type": "code",
   "execution_count": null,
   "metadata": {},
   "outputs": [],
   "source": [
    "import kernels\n",
    "import visualization\n",
    "import affine\n",
    "import numpy as np\n",
    "from feature_detection import FeatureDetector\n",
    "from utils import invert\n",
    "import matplotlib.pyplot as plt\n",
    "\n",
    "%matplotlib inline"
   ]
  },
  {
   "cell_type": "code",
   "execution_count": null,
   "metadata": {},
   "outputs": [],
   "source": [
    "radius = 3\n",
    "spacing = 20\n",
    "pixel_spacing = (0.5, 0.5, 0.5)\n",
    "\n",
    "def fd_w_mismatched_kernel(radius, spacing, pixel_spacing, noise_mag, radius_mismatch):\n",
    "    img = kernels.cylindrical_grid_intersection(pixel_spacing, radius*radius_mismatch, 1.2*spacing)\n",
    "    img = np.dstack((img, img, img, img, img))\n",
    "    \n",
    "    middle = [(n - 1)/2 for n in img.shape]\n",
    "    \n",
    "    img[:, :, (middle[2] + int(1.5*radius/pixel_spacing[2])):] = 0.0\n",
    "    img[:, (middle[1] + int(1.5*radius/pixel_spacing[1])):, :] = 0.0\n",
    "    img[(middle[0] + int(1.5*radius/pixel_spacing[0])):, :, :] = 0.0\n",
    "    \n",
    "    img = invert(img)\n",
    "    img = img - np.min(img)  # ensure it is positive\n",
    "    \n",
    "    img = img + noise_mag*np.random.rand(*img.shape)    \n",
    "    \n",
    "    ijk_to_xyz = np.array([\n",
    "        [pixel_spacing[0], 0, 0, -middle[0]*pixel_spacing[0]],\n",
    "        [0, pixel_spacing[1], 0, -middle[1]*pixel_spacing[1]],\n",
    "        [0, 0, pixel_spacing[2], -middle[2]*pixel_spacing[2]],\n",
    "        [0, 0, 0, 1],\n",
    "    ])\n",
    "    \n",
    "    assert np.all(affine.apply_affine(ijk_to_xyz, np.array([middle]).T) == 0)\n",
    "    \n",
    "    fd = FeatureDetector('603A', 'mri', img, ijk_to_xyz)\n",
    "    fd.grid_radius = radius\n",
    "    fd.grid_spacing = spacing\n",
    "\n",
    "    fd.run()\n",
    "    return fd, middle, radius_mismatch\n",
    "\n",
    "def plot_fds(result_tups):\n",
    "    plt.figure(figsize=(12, 6))\n",
    "    for fd, middle, radius_mismatch in result_tups:\n",
    "        y = fd.feature_image[middle[0], middle[1], :]\n",
    "        x = np.linspace(-1, 1, len(y))\n",
    "        plt.plot(x, y, label='{}'.format(radius_mismatch))\n",
    "    plt.legend()\n",
    "    plt.grid()\n",
    "    plt.savefig('fd1.2nn.pdf')"
   ]
  },
  {
   "cell_type": "code",
   "execution_count": null,
   "metadata": {},
   "outputs": [],
   "source": [
    "results = [fd_w_mismatched_kernel(radius, spacing, pixel_spacing, 0, m) for m in [0.55, 0.7, 0.85, 1, 1.15, 1.3]]\n",
    "plot_fds(results)"
   ]
  },
  {
   "cell_type": "code",
   "execution_count": null,
   "metadata": {},
   "outputs": [],
   "source": [
    "visualization.slices_interactive(results[4][0].image)"
   ]
  },
  {
   "cell_type": "code",
   "execution_count": null,
   "metadata": {},
   "outputs": [],
   "source": []
  }
 ],
 "metadata": {
  "anaconda-cloud": {},
  "kernelspec": {
   "display_name": "Python [default]",
   "language": "python",
   "name": "python3"
  },
  "language_info": {
   "codemirror_mode": {
    "name": "ipython",
    "version": 3
   },
   "file_extension": ".py",
   "mimetype": "text/x-python",
   "name": "python",
   "nbconvert_exporter": "python",
   "pygments_lexer": "ipython3",
   "version": "3.5.2"
  }
 },
 "nbformat": 4,
 "nbformat_minor": 1
}
