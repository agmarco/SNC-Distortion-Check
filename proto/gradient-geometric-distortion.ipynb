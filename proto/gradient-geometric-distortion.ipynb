{
 "cells": [
  {
   "cell_type": "markdown",
   "metadata": {},
   "source": [
    "# Geometric Distortions due to Gradient Inhomogeneities"
   ]
  },
  {
   "cell_type": "markdown",
   "metadata": {},
   "source": [
    "The software we are developing will allows us to measure geometric distortion from MR images of a grid phantom.\n",
    "\n",
    "Geometric distortion originates from inhomogeneities in the magnetic field.  In particular\n",
    "\n",
    "- from a non-uniform static field $B_0(\\vec{r})$\n",
    "- from non-linear gradient magnets $\\vec{G}(\\vec{r})$\n",
    "- from susceptibility changes caused by the sample\n",
    "\n",
    "We are working on understanding how non-linearities in the gradient magnets manifests as geometric distortion.\n",
    "\n",
    "A key question that we have been considering is:\n",
    "\n",
    "**Is the geometric distortion originating from gradient magnet inhomogeneities different during slice-selection vs within the slice (i.e. from scanning the 2D k-space within the slice)?**\n",
    "\n",
    "This seems like an important question because if the geometric distortion *is* different along the slice direction from within the slice, then the geometric distortion in general would depend upon the slice-selection direction.  For example, the geometric distortion could be different for a set of axial slices vs sagittal slices.\n",
    "\n",
    "This would mean that our software would need to operate on a single set of slices, and would not be able to combine multiple sets of slices from different directions.\n",
    "\n",
    "We note that, in practice, the distortion may in fact be similar due to how the gradient magnets are constructed.\n",
    "\n",
    "## Current Understanding\n",
    "\n",
    "Our current understanding is that, yes, the geometric distortion caused by gradient magnet inhomogeneities is different along the slice-selection direction from within the slice.\n",
    "\n",
    "What follows is our explanation of why we believe this.\n",
    "\n",
    "When performing \"multi-slice 2D imaging\", a slice within the 3D volume is selected by varying the slice-selection gradient and the central frequency and bandwidth of the initial $pi/2$ RF pulse.\n",
    "\n",
    "The RF pulse excites the \"iso-surface\" wherein the magnetic field strength leads to matching Larmour frequencies.  Ideally the \"iso-surface\" is a plane perpendicular to the slice-selection gradient, however gradient non-linearities would warp the plane, leading to geometric distortion.\n",
    "\n",
    "After a slice is selected, the scanner still needs to scan through the 2D k-space to localize the contrast within the selected slice.  The gradient magnets are used to scan through this k-space.\n",
    "\n",
    "It seems that gradient magnet inhomogeneities present during k-space scanning would to manifest differently than during slice selection, because they would cause artifacts in the frequency domain.\n",
    "\n",
    "These frequency domain artifacts can be seen from the 1D MRI frequency imaging equation (equation 9.14 of *Magnetic Resonance Imaging: Physical Principles and Sequence Design, 2nd edition*):\n",
    "\n",
    "\n",
    "$s(t) = \\int dz \\; \\rho(z)e^{i\\phi_G(z, t)}$\n",
    "\n",
    "In this equation $s(t)$ is the measured signal on the receive coil, and $\\rho(z)$ is the effective spin density.\n",
    "\n",
    "The phase term, $\\phi_G(z, t)$, results from the time-and-space varying gradient field (the phase from the static field has already been canceled out).  In particular, we have:\n",
    "\n",
    "$\\phi_G(z, t) = - \\int_0^t   dt'\\; \\omega_G(z, t') = - \\int_0^t    dt'\\gamma G(z, t')$\n",
    "\n",
    "In the case that $G(z, t) = zG(t)$, we end up with a Fourier transform relating $s$ and $\\rho$\n",
    "\n",
    "$s(k) = \\int dz \\rho(z) e^{-i2\\pi k z}$\n",
    "\n",
    "where\n",
    "\n",
    "$k(t) = \\gamma' \\int_0^t dt' G(t')$.\n",
    "\n",
    "These last two equations are 9.15 and 9.16 in the MRI text.\n",
    "\n",
    "If, on the other hand, $G(z, t)$ is not linear, we end up with something more complicated.\n",
    "\n",
    "For example, if we have $G(z, t) = (z + a_2 z^2 + a_3 z^3) G(t)$, we no longer have a Fourier transform, but we have:\n",
    "\n",
    "$s(k) = \\int dz \\; \\rho(z)e^{- i 2 \\pi (z + a_2 z^2 + a_3 z^3) k}$\n",
    "\n",
    "Presumably, despite these extra terms, the measured signal $s(k)$ will still be inverse-Fourier transformed as usual.\n",
    "\n",
    "It is not exactly clear how the non-linearity will manifest itself, however it does appear to be different than how gradient non-linearities manifest during slice selection.\n",
    "\n",
    "## Plotting Simple Case\n",
    "\n",
    "We can visualize this result using a simple simulation."
   ]
  },
  {
   "cell_type": "code",
   "execution_count": null,
   "metadata": {
    "collapsed": false
   },
   "outputs": [],
   "source": [
    "%matplotlib inline\n",
    "\n",
    "import numpy as np\n",
    "import matplotlib.pylab as plt\n",
    "\n",
    "z = np.linspace(-10, 10, 2000)\n",
    "dz = np.diff(z[:2])\n",
    "a_2 = 0.01\n",
    "a_3 = 0.004\n",
    "\n",
    "plt.plot(z, z + a_2*z**2 + a_3*z**3)\n",
    "plt.title('A Non-linear Gradient Field')\n",
    "plt.ylabel('Gradient Field Strength [a.u.]')\n",
    "plt.xlabel('Position [a.u.]')"
   ]
  },
  {
   "cell_type": "code",
   "execution_count": null,
   "metadata": {
    "collapsed": false
   },
   "outputs": [],
   "source": [
    "rho_actual = np.zeros(z.shape, dtype=complex)\n",
    "rho_actual[(-8 < z) & (z < -5)] = 1.0\n",
    "rho_actual[(1 < z) & (z < 4)] = 1.8\n",
    "\n",
    "plt.plot(z, np.abs(rho_actual))\n",
    "plt.title('A Simple, Fabricated Spin Density')\n",
    "plt.ylabel('Effective Spin Density [a.u.]')\n",
    "plt.xlabel('Position [a.u.]')\n",
    "plt.ylim([0, 2])\n"
   ]
  },
  {
   "cell_type": "code",
   "execution_count": null,
   "metadata": {
    "collapsed": false
   },
   "outputs": [],
   "source": [
    "\n",
    "def simulate_1d_mri(rho_actual, gradient):\n",
    "    '''    \n",
    "    NOTE: this doesn't use the FFT because I am lazy and it is small.\n",
    "    \n",
    "    s(k) = \\int dz \\; \\rho(z)e^{- i 2 \\pi (z + a_2 z^2 + a_3 z^3) k} \n",
    "    '''\n",
    "    k = np.linspace(-20, 20, 4000)\n",
    "    dk = np.diff(k[:2])\n",
    "    s = np.sum(rho_actual*np.exp(-2j*np.pi*np.outer(k, gradient)), axis=1)*dz\n",
    "    rho_measured = np.sum(s*np.exp(2j*np.pi*np.outer(z, k)), axis=1)*dk\n",
    "    return np.abs(rho_measured)\n",
    "\n",
    "plt.plot(z, simulate_1d_mri(rho_actual, z + a_2*z**2 + a_3*z**3), 'r', label='Measured Spin Density (w distortion)')\n",
    "plt.plot(z, simulate_1d_mri(rho_actual, z), 'g', label='Measured Spin Density (no distortion)')\n",
    "plt.plot(z, np.abs(rho_actual), 'b', label='Actual Spin Density')\n",
    "plt.title('A Simple, Fabricated Spin Density')\n",
    "plt.ylabel('Effective Spin Density [a.u.]')\n",
    "plt.xlabel('Position [a.u.]')\n",
    "plt.legend(loc='center left', bbox_to_anchor=(1, 0.5))"
   ]
  },
  {
   "cell_type": "markdown",
   "metadata": {},
   "source": [
    "Note that we see Gibb's phenomena, which is expected because we are cutting off high frequency components of the sharp edge in $rho$.\n",
    "\n",
    "Even with this simulation, it is not completely clear what the answer to the question is.\n",
    "\n",
    "Qualitatively, it seems like they are different, but it is difficult to say for sure.  For example, the distortions along the slice-axis should not alter the amplitude, however the non-linear gradient does appear to alter the amplitude within the slice.\n",
    "\n",
    "It is also possible that the values for $a_2$ and $a_3$ are unrealistically high, and that this may affect the practical conclusion."
   ]
  }
 ],
 "metadata": {
  "anaconda-cloud": {},
  "kernelspec": {
   "display_name": "Python [conda env:cirs]",
   "language": "python",
   "name": "conda-env-cirs-py"
  },
  "language_info": {
   "codemirror_mode": {
    "name": "ipython",
    "version": 3
   },
   "file_extension": ".py",
   "mimetype": "text/x-python",
   "name": "python",
   "nbconvert_exporter": "python",
   "pygments_lexer": "ipython3",
   "version": "3.5.2"
  }
 },
 "nbformat": 4,
 "nbformat_minor": 1
}
